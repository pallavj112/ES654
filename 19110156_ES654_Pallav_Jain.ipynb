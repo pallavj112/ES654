{
  "cells": [
    {
      "cell_type": "markdown",
      "metadata": {
        "id": "view-in-github",
        "colab_type": "text"
      },
      "source": [
        "<a href=\"https://colab.research.google.com/github/pallavj112/ES654/blob/main/19110156_ES654_Pallav_Jain.ipynb\" target=\"_parent\"><img src=\"https://colab.research.google.com/assets/colab-badge.svg\" alt=\"Open In Colab\"/></a>"
      ]
    },
    {
      "cell_type": "markdown",
      "id": "a358690a",
      "metadata": {
        "id": "a358690a"
      },
      "source": [
        "Q1  \n",
        "\n",
        "Number of Multiplications: $nmk$\n",
        "    \n",
        "Number of Addiditions: $nm(k-1)$\n",
        "\n",
        "Since multiplying a (n,k) matrix and a (k,m) matrix will result in a (n,m) which will have $nm$ elements. \n",
        "\n",
        "Each element will be calculated by multiplying individually k elements in a row from First matrix and k elements in a column from the second matrix. Afterward the k numbers that we got after multiplication will be added this will involve (k-1) additions. Therefore total number of multiplications for calculating an individual element would be k and total number of additions will be k-1"
      ]
    },
    {
      "cell_type": "code",
      "execution_count": 1,
      "id": "740ea991",
      "metadata": {
        "colab": {
          "base_uri": "https://localhost:8080/"
        },
        "id": "740ea991",
        "outputId": "1699b36d-aa36-42bd-e287-915b37e85ed3"
      },
      "outputs": [
        {
          "output_type": "stream",
          "name": "stdout",
          "text": [
            "n3\n",
            "k4\n",
            "m5\n",
            "A:\n",
            " [[-21  57  86 -95]\n",
            " [ 13 -36 -64 -95]\n",
            " [ 43 -57  -5 -39]] \n",
            "\n",
            "B:\n",
            " [[ 39  35  69 -50 -17]\n",
            " [ 34  99 -88  74 -51]\n",
            " [ 78  35  33 -30  54]\n",
            " [ 36  70  43 -30 -73]]\n",
            "\n",
            "Our Algorithm:  [[  4407.   1268.  -7712.   5538.   9029.]\n",
            " [ -9129. -11999.  -2132.   1456.   5094.]\n",
            " [ -2055.  -7043.   6141.  -5048.   4753.]] \n",
            "\n",
            "\n",
            "Matmul:  [[  4407   1268  -7712   5538   9029]\n",
            " [ -9129 -11999  -2132   1456   5094]\n",
            " [ -2055  -7043   6141  -5048   4753]] \n",
            "\n",
            "\n",
            " Finding time for the algorithm:\n",
            "\n",
            "Our Algo:  0.08015275001525879\n",
            "\n",
            " Matmul: 0.00011652708053588867\n"
          ]
        }
      ],
      "source": [
        "#Q2\n",
        "import time \n",
        "import numpy as np\n",
        "n = int(input(\"n\"))\n",
        "k = int(input(\"k\"))\n",
        "m = int(input(\"m\"))\n",
        "\n",
        "A = np.random.randint(-100,100,size=(n,k))\n",
        "B = np.random.randint(-100,100,size=(k,m))\n",
        "print(\"A:\\n\",A,\"\\n\")\n",
        "print(\"B:\\n\",B)\n",
        "M = np.zeros((n,m))\n",
        "for i in range(n):\n",
        "    list = []\n",
        "    for j in range(m):\n",
        "        sum = 0\n",
        "        for l in range(k):\n",
        "            sum += A[i][l]*B[l][j]\n",
        "        M[i][j]=int(sum)\n",
        "\n",
        "print(\"\\nOur Algorithm: \",M,\"\\n\")\n",
        "\n",
        "M_numpy = np.matmul(A,B)\n",
        "print(\"\\nMatmul: \",M_numpy,\"\\n\")\n",
        "\n",
        "print(\"\\n Finding time for the algorithm:\")\n",
        "time1_total = 0\n",
        "time2_total = 0\n",
        "no = np.random.randint(0,100)\n",
        "for i in range(no):\n",
        "    val = np.random.randint(0,100,size=(3,1))\n",
        "    n = int(val[0])\n",
        "    k = int(val[1])\n",
        "    m = int(val[2])\n",
        "    A = np.random.randint(-100,100,size=(n,k))\n",
        "    B = np.random.randint(-100,100,size=(k,m))\n",
        "    M = np.zeros((n,m))\n",
        "    start1 = time.time()\n",
        "    for i in range(n):\n",
        "        for j in range(m):\n",
        "            sum = 0\n",
        "            for l in range(k):\n",
        "                sum += A[i][l]*B[l][j]\n",
        "            M[i][j]=int(sum)\n",
        "    end1 = time.time()\n",
        "    time1_total += (end1-start1)\n",
        "    start2 = time.time() \n",
        "    M_numpy = np.matmul(A,B)\n",
        "    end2 = time.time()\n",
        "    time2_total += (end2-start2)\n",
        "print(\"\\nOur Algo: \",time1_total/no)\n",
        "print(\"\\n Matmul:\", time2_total/no)"
      ]
    },
    {
      "cell_type": "markdown",
      "id": "2112fe08",
      "metadata": {
        "id": "2112fe08"
      },
      "source": [
        "As we can see the numpy function Matmul multiplies much faster than our algorithm. This is obvious since our algorithm as proved above has a time complexity of $O(n^3)$ while their algorithm as stated in an article is of $O(n^{2.37188})$ which is much better than our algorithm."
      ]
    },
    {
      "cell_type": "markdown",
      "id": "ed1cd614",
      "metadata": {
        "id": "ed1cd614"
      },
      "source": [
        "Q3.\n",
        "According to the algorithm stated  in the question in order to find the median in the worst case scenario it will make $n + (n-1) + (n-2) +.... n/2$ searches which is equal to $s = n/2(n/2 + n)$. This gives us the time complexity of $O(n^2)$. If we are able to sort the array using an algorith of a lower time complexity  it will improve the running time. We can use merge sort, for sorting the array which has a time complexity of $O(nlog(n))$."
      ]
    },
    {
      "cell_type": "code",
      "execution_count": 2,
      "id": "57516861",
      "metadata": {
        "colab": {
          "base_uri": "https://localhost:8080/"
        },
        "id": "57516861",
        "outputId": "5fc1b4a1-199a-483b-dc76-9b0a078b9ab5"
      },
      "outputs": [
        {
          "output_type": "stream",
          "name": "stdout",
          "text": [
            "15\n",
            "\n",
            "Array:  [-12, 25, 73, 99, 58, -80, -81, 81, 85, 93, -16, 4, 62, -38, 5]\n",
            "\n",
            "Median by algorithm1:  -81\n",
            "\n",
            "Median by Algorithm2:  25\n",
            "\n",
            "Median by numpy.median:  25\n"
          ]
        }
      ],
      "source": [
        "#Q3\n",
        "\n",
        "import numpy as np\n",
        "\n",
        "#Algorithm 1: Algorithm suggested by the question\n",
        "def func(arr):\n",
        "    l = len(arr)\n",
        "    temp = arr\n",
        "    if(l%2==0):\n",
        "        n1 = temp[0]\n",
        "        n2 = temp[1]\n",
        "        for i in range(n//2+1):\n",
        "            max = int(temp[0])\n",
        "            for j in temp:\n",
        "                if (max<=j):\n",
        "                    max = j\n",
        "            if(i == n//2-1):\n",
        "                n2 = max\n",
        "            print(max)\n",
        "            temp.remove(max)\n",
        "           \n",
        "        n1 = max\n",
        "        print(n1,n2)\n",
        "        return (n1+n2)/2\n",
        "    else:\n",
        "        for i in range(n+1//2):\n",
        "            max = int(temp[0])\n",
        "            for j in temp:\n",
        "                if (max<=j):\n",
        "                    max = j\n",
        "            temp.remove(max)\n",
        "        return max\n",
        "#Algorithm 2: Using .sort() which has a time complexity of nlog(n) which is better when compared to n^2 of the \n",
        "#previous algorithm\n",
        "\n",
        "def func2(arr,n):\n",
        "    arr.sort()\n",
        "    if(n%2==0):\n",
        "        n1 = arr[n//2]\n",
        "        n2 = arr[n//2-1]\n",
        "        return (n1+n2)/2\n",
        "    else:\n",
        "        return arr[(n-1)//2]\n",
        "    \n",
        "n = int(input())\n",
        "arr1 = []\n",
        "for i in range(n):\n",
        "    arr1.append(np.random.randint(-100,100))\n",
        "\n",
        "print(\"\\nArray: \",arr1)\n",
        "\n",
        "median1 = func(arr1.copy())\n",
        "print(\"\\nMedian by algorithm1: \",median1)\n",
        "\n",
        "median2 = func2(arr1.copy(),n)\n",
        "print(\"\\nMedian by Algorithm2: \",median2)\n",
        "\n",
        "median3 = np.median(arr1.copy())\n",
        "print(\"\\nMedian by numpy.median: \",median2)\n",
        "\n"
      ]
    },
    {
      "cell_type": "markdown",
      "id": "e5f0858b",
      "metadata": {
        "id": "e5f0858b"
      },
      "source": [
        "Q4\n",
        "\n",
        "Function: $f(x,y) = x^2y + y^3sin(x)$\n",
        "\n",
        "Gradient of the function with respect to x is: $2xy + ycos(x)$\n",
        "\n",
        "Gradient of the function with respect to y is: $x^2 + 3y^2sin(x)$"
      ]
    },
    {
      "cell_type": "code",
      "execution_count": 13,
      "id": "5ce1b223",
      "metadata": {
        "colab": {
          "base_uri": "https://localhost:8080/"
        },
        "id": "5ce1b223",
        "outputId": "98710aa3-94f7-4907-e995-408ed5642305"
      },
      "outputs": [
        {
          "output_type": "stream",
          "name": "stdout",
          "text": [
            "10\n",
            "\n",
            "Gradient using JAX: [DeviceArray([ 187.72223, 4242.0767 ], dtype=float32), DeviceArray([754165.4 , -13186.66], dtype=float32), DeviceArray([-28308.91  ,   1996.8433], dtype=float32), DeviceArray([-132502.44  ,   -1128.4989], dtype=float32), DeviceArray([-791508.9   ,   -1793.4797], dtype=float32), DeviceArray([269491.97  ,  -1368.8531], dtype=float32), DeviceArray([-2134.408 ,  6002.6494], dtype=float32), DeviceArray([-268874.5   ,   -2402.8733], dtype=float32), DeviceArray([821569.2   ,   6650.7417], dtype=float32), DeviceArray([-1908.5377,  9526.247 ], dtype=float32)]\n",
            "\n",
            "Gradient using our Calculated Gradient: [(187.72222900390625, 4242.07666015625), (754165.375, -13186.6611328125), (-28308.91015625, 1996.84375), (-132502.4375, -1128.4989013671875), (-791508.875, -1793.4794921875), (269491.9375, -1368.8529052734375), (-2134.407958984375, 6002.650390625), (-268874.46875, -2402.873291015625), (821569.1875, 6650.7421875), (-1908.5377197265625, 9526.2470703125)]\n"
          ]
        }
      ],
      "source": [
        "#Q5 (Working on Google colab)\n",
        "import numpy as np\n",
        "import jax.numpy as jnp\n",
        "from jax import grad\n",
        "\n",
        "def func(x):\n",
        "  return x[0]**2*x[1] + x[1]**3*jnp.sin(x[0])\n",
        "def deri(x):\n",
        "  return (float(2*x[0]*x[1]+x[1]**3*jnp.cos(x[0])),float(x[0]**2+3*x[1]**2*jnp.sin(x[0])))\n",
        "no = int(input())\n",
        "\n",
        "val = np.random.uniform(-100, 100, (no, 2))\n",
        "jaxgrad = []\n",
        "mygrad = []\n",
        "\n",
        "gx = grad(func)\n",
        "for i in val:\n",
        "  jaxgrad.append(gx(i))\n",
        "  mygrad.append(deri(i))\n",
        "\n",
        "print(\"\\nGradient using JAX:\",jaxgrad)\n",
        "print(\"\\nGradient using our Calculated Gradient:\",mygrad)"
      ]
    },
    {
      "cell_type": "code",
      "execution_count": 4,
      "id": "58736b66",
      "metadata": {
        "colab": {
          "base_uri": "https://localhost:8080/",
          "height": 38
        },
        "id": "58736b66",
        "outputId": "1bea16cf-292d-4a93-888a-bd798607e4ac"
      },
      "outputs": [
        {
          "output_type": "execute_result",
          "data": {
            "text/plain": [
              "(2*R.x*R.y + R.y*cos(R.x))*R.i + (R.x**2 + sin(R.x))*R.j"
            ],
            "text/latex": "$\\displaystyle (2 \\mathbf{{x}_{R}} \\mathbf{{y}_{R}} + \\mathbf{{y}_{R}} \\cos{\\left(\\mathbf{{x}_{R}} \\right)})\\mathbf{\\hat{i}_{R}} + (\\mathbf{{x}_{R}}^{2} + \\sin{\\left(\\mathbf{{x}_{R}} \\right)})\\mathbf{\\hat{j}_{R}}$"
          },
          "metadata": {},
          "execution_count": 4
        }
      ],
      "source": [
        "#Q6\n",
        "import sympy as smp\n",
        "import numpy as np\n",
        "from sympy.vector import CoordSys3D, gradient\n",
        "\n",
        "R = CoordSys3D('R')\n",
        "func = R.x**2*R.y+R.y*smp.sin(R.x)\n",
        "gradient(func)\n",
        "\n",
        "#As we can see in the output that it matches our answer analytically"
      ]
    },
    {
      "cell_type": "code",
      "execution_count": 5,
      "id": "5903189f",
      "metadata": {
        "colab": {
          "base_uri": "https://localhost:8080/"
        },
        "id": "5903189f",
        "outputId": "b13ee269-14b9-4604-f39c-3531acd62aee"
      },
      "outputs": [
        {
          "output_type": "stream",
          "name": "stdout",
          "text": [
            "100\n"
          ]
        }
      ],
      "source": [
        "#Q7\n",
        "database = {\n",
        "    2022: {\n",
        "        \"Branch 1\":{\n",
        "            1: {\n",
        "                \"Name\": \"N\",\n",
        "                \"Marks\": {\n",
        "                    \"Maths\": 100,\n",
        "                    \"English\":70\n",
        "                }\n",
        "            }\n",
        "        },\n",
        "        \"Branch 2\":{}\n",
        "    },\n",
        "    2023:{\n",
        "        \"Branch 1\":{},\n",
        "        \"Branch 2\":{}\n",
        "    },\n",
        "     2024:{\n",
        "        \"Branch 1\":{},\n",
        "        \"Branch 2\":{}\n",
        "    },\n",
        "     2025:{\n",
        "        \"Branch 1\":{},\n",
        "        \"Branch 2\":{}\n",
        "    }\n",
        "}\n",
        "\n",
        "print(database[2022][\"Branch 1\"][1][\"Marks\"][\"Maths\"])"
      ]
    },
    {
      "cell_type": "code",
      "execution_count": 6,
      "id": "6bd0fe89",
      "metadata": {
        "colab": {
          "base_uri": "https://localhost:8080/"
        },
        "id": "6bd0fe89",
        "outputId": "8156ed08-b792-4458-caf3-8e3aaa9c9c72"
      },
      "outputs": [
        {
          "output_type": "stream",
          "name": "stdout",
          "text": [
            "2022 , Branch 1 , N\n"
          ]
        }
      ],
      "source": [
        "#Q8\n",
        "class Marks():\n",
        "    def __init__(self,Maths,English):\n",
        "        self.Maths = Maths\n",
        "        self.English = English\n",
        "class Students():\n",
        "    def __init__(self,Rollnumber,Name,Marks):\n",
        "        self.Rollnumber = Rollnumber\n",
        "        self.Name = Name\n",
        "        self.Marks = Marks\n",
        "class Branch():\n",
        "    def __init__(self,BranchName,Students):\n",
        "        self.BranchName = BranchName\n",
        "        self.Students = Students\n",
        "class Year():\n",
        "    def __init__(self,YearNo,Branch):\n",
        "        self.YearNo = YearNo\n",
        "        self.Branch = Branch\n",
        "\n",
        "database = [Year(2022,[\n",
        "                Branch(\"Branch 1\",[Students(\"1\",\"N\",Marks(100,70))]),\n",
        "                Branch(\"Branch 2\",[])\n",
        "                      ]),\n",
        "        Year(2023,[Branch(\"Branch 1\",[]),Branch(\"Branch 2\",[])]),\n",
        "        Year(2024,[Branch(\"Branch 1\",[]),Branch(\"Branch 2\",[])]),\n",
        "        Year(2025,[Branch(\"Branch 1\",[]),Branch(\"Branch 2\",[])])]\n",
        "print(database[0].YearNo,\",\", database[0].Branch[0].BranchName,\",\",database[0].Branch[0].Students[0].Name)"
      ]
    },
    {
      "cell_type": "code",
      "execution_count": 7,
      "id": "4e21c4e0",
      "metadata": {
        "colab": {
          "base_uri": "https://localhost:8080/",
          "height": 1000
        },
        "id": "4e21c4e0",
        "outputId": "ba39e44a-019d-4136-d773-0b74d5d4491d"
      },
      "outputs": [
        {
          "output_type": "display_data",
          "data": {
            "text/plain": [
              "<Figure size 720x360 with 1 Axes>"
            ],
            "image/png": "[encoded data removed]"
          },
          "metadata": {
            "needs_background": "light"
          }
        },
        {
          "output_type": "display_data",
          "data": {
            "text/plain": [
              "<Figure size 720x360 with 1 Axes>"
            ],
            "image/png": "[encoded data removed]"
          },
          "metadata": {
            "needs_background": "light"
          }
        },
        {
          "output_type": "display_data",
          "data": {
            "text/plain": [
              "<Figure size 720x360 with 1 Axes>"
            ],
            "image/png": "[encoded data removed]"
          },
          "metadata": {
            "needs_background": "light"
          }
        },
        {
          "output_type": "display_data",
          "data": {
            "text/plain": [
              "<Figure size 720x360 with 1 Axes>"
            ],
            "image/png": "[encoded data removed]"
          },
          "metadata": {
            "needs_background": "light"
          }
        },
        {
          "output_type": "display_data",
          "data": {
            "text/plain": [
              "<Figure size 720x360 with 1 Axes>"
            ],
            "image/png": "[encoded data removed]"
          },
          "metadata": {
            "needs_background": "light"
          }
        },
        {
          "output_type": "display_data",
          "data": {
            "text/plain": [
              "<Figure size 720x360 with 1 Axes>"
            ],
            "image/png": "[encoded data removed]"
          },
          "metadata": {
            "needs_background": "light"
          }
        },
        {
          "output_type": "display_data",
          "data": {
            "text/plain": [
              "<Figure size 720x360 with 1 Axes>"
            ],
            "image/png": "[encoded data removed]"
          },
          "metadata": {
            "needs_background": "light"
          }
        }
      ],
      "source": [
        "#Q9\n",
        "import matplotlib.pyplot as plt\n",
        "import numpy as np\n",
        "\n",
        "x = np.linspace(0.5,100,num = 200,endpoint = True)\n",
        "plt.figure(figsize=(10,5))\n",
        "\n",
        "y1 = x\n",
        "plt.plot(x, y1)\n",
        "plt.xlabel('x')\n",
        "plt.ylabel('y')\n",
        "plt.title(\"y = x\")\n",
        "plt.show()\n",
        "\n",
        "plt.figure(figsize=(10,5))\n",
        "y2 = x ** 2\n",
        "plt.plot(x, y2)\n",
        "plt.xlabel('x')\n",
        "plt.ylabel('y')\n",
        "plt.title(\"y = x^2\")\n",
        "plt.show()\n",
        "\n",
        "plt.figure(figsize=(10,5))\n",
        "y3 = x ** 3/100\n",
        "plt.plot(x, y3)\n",
        "plt.xlabel('x')\n",
        "plt.ylabel('y')\n",
        "plt.title(\"y = x^3/100\")\n",
        "plt.show()\n",
        "\n",
        "plt.figure(figsize=(10,5))\n",
        "y4 = np.sin(x)\n",
        "plt.plot(x, y4)\n",
        "plt.xlabel('x')\n",
        "plt.ylabel('y')\n",
        "plt.ylim(-7.5,7.5)\n",
        "plt.title(\"y = sin(x)\")\n",
        "plt.show()\n",
        "\n",
        "plt.figure(figsize=(10,5))\n",
        "y5 = np.divide(np.sin(x),x)\n",
        "plt.plot(x, y5)\n",
        "plt.xlabel('x')\n",
        "plt.ylabel('y')\n",
        "plt.title(\"y = sin(x)/x\")\n",
        "plt.show()\n",
        "\n",
        "plt.figure(figsize=(10,5))\n",
        "y6 = np.log(x)\n",
        "plt.plot(x, y6)\n",
        "plt.xlabel('x')\n",
        "plt.ylabel('y')\n",
        "plt.title(\"y = log(x)\")\n",
        "plt.show()\n",
        "\n",
        "plt.figure(figsize=(10,5))\n",
        "y7 = np.exp(x)\n",
        "plt.plot(x, y7)\n",
        "plt.xlabel('x')\n",
        "plt.ylabel('y')\n",
        "plt.title(\"y = e^x\")\n",
        "plt.show()\n"
      ]
    },
    {
      "cell_type": "code",
      "execution_count": 14,
      "id": "62ba1d8b",
      "metadata": {
        "colab": {
          "base_uri": "https://localhost:8080/"
        },
        "id": "62ba1d8b",
        "outputId": "fe17d403-3549-48f2-e673-da32d02d4074"
      },
      "outputs": [
        {
          "output_type": "stream",
          "name": "stdout",
          "text": [
            "Matrix:\n",
            " [[1.34876668 1.4475095  1.33370724 1.1467159  1.83441199]\n",
            " [1.60390316 1.80618818 1.87220083 1.02090881 1.2875924 ]\n",
            " [1.6786366  1.56098172 1.49181621 1.87587226 1.45041518]\n",
            " [1.45410579 1.75543521 1.60427135 1.68996677 1.95819203]\n",
            " [1.3862203  1.14547315 1.63034313 1.76277365 1.30502423]\n",
            " [1.85790644 1.87491817 1.65560153 1.49913723 1.14342326]\n",
            " [1.10540344 1.35589365 1.41381879 1.72387503 1.4062691 ]\n",
            " [1.9072852  1.36278845 1.2723907  1.80500214 1.64616169]\n",
            " [1.47761122 1.90261598 1.16430606 1.38386901 1.83681823]\n",
            " [1.27779189 1.90706592 1.82883862 1.27066113 1.99830007]\n",
            " [1.38101791 1.75629448 1.19541276 1.95102194 1.87030059]\n",
            " [1.53375393 1.46426879 1.52281873 1.94246068 1.73584566]\n",
            " [1.01155737 1.32419589 1.3040349  1.57389921 1.2442159 ]\n",
            " [1.95471909 1.27030768 1.63649462 1.68511517 1.53503855]\n",
            " [1.79968555 1.32031165 1.80623344 1.88119315 1.11864012]\n",
            " [1.19553083 1.36157485 1.65453627 1.4914102  1.30143818]\n",
            " [1.20359668 1.67765127 1.8584804  1.8681503  1.23331367]\n",
            " [1.8731161  1.3791893  1.61242843 1.77868038 1.16505423]\n",
            " [1.5724847  1.06273247 1.71156541 1.66004866 1.83905099]\n",
            " [1.62223552 1.99341847 1.1596112  1.36368159 1.21273329]] \n",
            "\n",
            "Dataframe\n",
            "            a         b         c         d         e\n",
            "0   1.348767  1.447509  1.333707  1.146716  1.834412\n",
            "1   1.603903  1.806188  1.872201  1.020909  1.287592\n",
            "2   1.678637  1.560982  1.491816  1.875872  1.450415\n",
            "3   1.454106  1.755435  1.604271  1.689967  1.958192\n",
            "4   1.386220  1.145473  1.630343  1.762774  1.305024\n",
            "5   1.857906  1.874918  1.655602  1.499137  1.143423\n",
            "6   1.105403  1.355894  1.413819  1.723875  1.406269\n",
            "7   1.907285  1.362788  1.272391  1.805002  1.646162\n",
            "8   1.477611  1.902616  1.164306  1.383869  1.836818\n",
            "9   1.277792  1.907066  1.828839  1.270661  1.998300\n",
            "10  1.381018  1.756294  1.195413  1.951022  1.870301\n",
            "11  1.533754  1.464269  1.522819  1.942461  1.735846\n",
            "12  1.011557  1.324196  1.304035  1.573899  1.244216\n",
            "13  1.954719  1.270308  1.636495  1.685115  1.535039\n",
            "14  1.799686  1.320312  1.806233  1.881193  1.118640\n",
            "15  1.195531  1.361575  1.654536  1.491410  1.301438\n",
            "16  1.203597  1.677651  1.858480  1.868150  1.233314\n",
            "17  1.873116  1.379189  1.612428  1.778680  1.165054\n",
            "18  1.572485  1.062732  1.711565  1.660049  1.839051\n",
            "19  1.622236  1.993418  1.159611  1.363682  1.212733 \n",
            "\n",
            "Highest Standard Dev Column: e \n",
            "\n",
            "Lowest Mean Row: 12\n",
            "\n",
            "Adding column f to Dataframe:\n",
            "            a         b         c         d         e         f\n",
            "0   1.348767  1.447509  1.333707  1.146716  1.834412  7.111111\n",
            "1   1.603903  1.806188  1.872201  1.020909  1.287592  7.590793\n",
            "2   1.678637  1.560982  1.491816  1.875872  1.450415  8.057722\n",
            "3   1.454106  1.755435  1.604271  1.689967  1.958192  8.461971\n",
            "4   1.386220  1.145473  1.630343  1.762774  1.305024  7.229834\n",
            "5   1.857906  1.874918  1.655602  1.499137  1.143423  8.030987\n",
            "6   1.105403  1.355894  1.413819  1.723875  1.406269  7.005260\n",
            "7   1.907285  1.362788  1.272391  1.805002  1.646162  7.993628\n",
            "8   1.477611  1.902616  1.164306  1.383869  1.836818  7.765220\n",
            "9   1.277792  1.907066  1.828839  1.270661  1.998300  8.282658\n",
            "10  1.381018  1.756294  1.195413  1.951022  1.870301  8.154048\n",
            "11  1.533754  1.464269  1.522819  1.942461  1.735846  8.199148\n",
            "12  1.011557  1.324196  1.304035  1.573899  1.244216  6.457903\n",
            "13  1.954719  1.270308  1.636495  1.685115  1.535039  8.081675\n",
            "14  1.799686  1.320312  1.806233  1.881193  1.118640  7.926064\n",
            "15  1.195531  1.361575  1.654536  1.491410  1.301438  7.004490\n",
            "16  1.203597  1.677651  1.858480  1.868150  1.233314  7.841192\n",
            "17  1.873116  1.379189  1.612428  1.778680  1.165054  7.808468\n",
            "18  1.572485  1.062732  1.711565  1.660049  1.839051  7.845882\n",
            "19  1.622236  1.993418  1.159611  1.363682  1.212733  7.351680\n",
            "\n",
            "Adding column g to Dataframe:\n",
            "            a         b         c         d         e         f    g\n",
            "0   1.348767  1.447509  1.333707  1.146716  1.834412  7.111111  LT8\n",
            "1   1.603903  1.806188  1.872201  1.020909  1.287592  7.590793  LT8\n",
            "2   1.678637  1.560982  1.491816  1.875872  1.450415  8.057722  GT8\n",
            "3   1.454106  1.755435  1.604271  1.689967  1.958192  8.461971  GT8\n",
            "4   1.386220  1.145473  1.630343  1.762774  1.305024  7.229834  LT8\n",
            "5   1.857906  1.874918  1.655602  1.499137  1.143423  8.030987  GT8\n",
            "6   1.105403  1.355894  1.413819  1.723875  1.406269  7.005260  LT8\n",
            "7   1.907285  1.362788  1.272391  1.805002  1.646162  7.993628  LT8\n",
            "8   1.477611  1.902616  1.164306  1.383869  1.836818  7.765220  LT8\n",
            "9   1.277792  1.907066  1.828839  1.270661  1.998300  8.282658  GT8\n",
            "10  1.381018  1.756294  1.195413  1.951022  1.870301  8.154048  GT8\n",
            "11  1.533754  1.464269  1.522819  1.942461  1.735846  8.199148  GT8\n",
            "12  1.011557  1.324196  1.304035  1.573899  1.244216  6.457903  LT8\n",
            "13  1.954719  1.270308  1.636495  1.685115  1.535039  8.081675  GT8\n",
            "14  1.799686  1.320312  1.806233  1.881193  1.118640  7.926064  LT8\n",
            "15  1.195531  1.361575  1.654536  1.491410  1.301438  7.004490  LT8\n",
            "16  1.203597  1.677651  1.858480  1.868150  1.233314  7.841192  LT8\n",
            "17  1.873116  1.379189  1.612428  1.778680  1.165054  7.808468  LT8\n",
            "18  1.572485  1.062732  1.711565  1.660049  1.839051  7.845882  LT8\n",
            "19  1.622236  1.993418  1.159611  1.363682  1.212733  7.351680  LT8\n",
            "\n",
            "Standard Deviation for LT8 rows is:  0.45000951787414994\n",
            "\n",
            "Standard Deviation for GT8 rows is:  0.14035746656172263\n"
          ]
        }
      ],
      "source": [
        "#Q10\n",
        "import numpy as np\n",
        "import pandas as pd\n",
        "matrix = np.random.uniform(1,2, size=(20, 5))\n",
        "dataframe = pd.DataFrame(matrix, columns = ['a','b','c','d','e'])\n",
        "\n",
        "sdev = dataframe.std()\n",
        "max_sdev = max(sdev)\n",
        "\n",
        "col = 'a'\n",
        "\n",
        "for k,v in sdev.items():\n",
        "    if v == max_sdev:\n",
        "        col = k\n",
        "\n",
        "mean = dataframe.mean(axis = 1)\n",
        "min_mean = min(mean)\n",
        "\n",
        "row = 0\n",
        "\n",
        "for k,v in mean.items():\n",
        "    if v == min_mean:\n",
        "        row = k\n",
        "        \n",
        "print(\"Matrix:\\n\",matrix,\"\\n\")\n",
        "print(\"Dataframe\\n\",dataframe,\"\\n\")\n",
        "print(\"Highest Standard Dev Column:\",col,\"\\n\")\n",
        "print(\"Lowest Mean Row:\",row)\n",
        "\n",
        "dataframe['f'] = dataframe.sum(axis=1)\n",
        "print(\"\\nAdding column f to Dataframe:\\n\", dataframe)\n",
        "\n",
        "g = []\n",
        "for i in dataframe['f']:\n",
        "    if(i<8):\n",
        "        g.append(\"LT8\")\n",
        "    else:\n",
        "        g.append(\"GT8\")\n",
        "dataframe['g'] = g\n",
        "print(\"\\nAdding column g to Dataframe:\\n\", dataframe)\n",
        "\n",
        "lt8 =[]\n",
        "gt8 =[]\n",
        "for i in range(len(dataframe.index)):\n",
        "    if(dataframe['g'][i]==\"LT8\"):\n",
        "        lt8.append(dataframe['f'][i])\n",
        "    else:\n",
        "        gt8.append(dataframe['f'][i])\n",
        "        \n",
        "sdev_lt8 = np.std(lt8)\n",
        "sdev_gt8 = np.std(gt8)\n",
        "print(\"\\nStandard Deviation for LT8 rows is: \",sdev_lt8)\n",
        "print(\"\\nStandard Deviation for GT8 rows is: \",sdev_gt8)"
      ]
    },
    {
      "cell_type": "code",
      "execution_count": 9,
      "id": "96b6d692",
      "metadata": {
        "colab": {
          "base_uri": "https://localhost:8080/"
        },
        "id": "96b6d692",
        "outputId": "a82c5c64-af90-4e73-cc70-eb4c347e70ee"
      },
      "outputs": [
        {
          "output_type": "stream",
          "name": "stdout",
          "text": [
            "[[0 1 2 3]\n",
            " [1 2 3 4]\n",
            " [2 3 4 5]\n",
            " [3 4 5 6]]\n"
          ]
        }
      ],
      "source": [
        "#Q12\n",
        "import numpy as np\n",
        "\n",
        "a = np.arange(4).reshape((4,1))\n",
        "b = np.arange(4)\n",
        "\n",
        "print(a+b)\n",
        "\n",
        "#The above peice of code shows broadcasting. \n",
        "#Bot the arrays are of differend shape so the library expands and pads the the shape in order to make the of same shape.\n",
        "#In our case both the arrays are reshaped into a 3x3 array and then the operation of addition is performed"
      ]
    },
    {
      "cell_type": "code",
      "execution_count": 10,
      "id": "84062cda",
      "metadata": {
        "colab": {
          "base_uri": "https://localhost:8080/"
        },
        "id": "84062cda",
        "outputId": "5011c14d-9c98-42ed-e7c3-f2e1ae7930c8"
      },
      "outputs": [
        {
          "output_type": "stream",
          "name": "stdout",
          "text": [
            "Array: \n",
            " [[72 50 92 83]\n",
            " [32 70 48 24]\n",
            " [51  2 33 39]\n",
            " [ 2 87 86 92]\n",
            " [39 99  7 38]]\n",
            "\n",
            "My function:  9\n",
            "\n",
            "Numpy.argmin():  9\n"
          ]
        }
      ],
      "source": [
        "#Q13\n",
        "import numpy as np\n",
        "\n",
        "def func(arr):\n",
        "    flat_arr =[]\n",
        "    for i in arr:\n",
        "        if len(i>1):\n",
        "            for j in i:\n",
        "                flat_arr.append(j)\n",
        "        else:\n",
        "            flat_arr.append(i)\n",
        "    mini = flat_arr[0]\n",
        "    min_ind = 0\n",
        "    for i in range(len(flat_arr)):\n",
        "        if(flat_arr[i]<mini):\n",
        "            mini = flat_arr[i]\n",
        "            min_ind = i\n",
        "    return min_ind\n",
        "\n",
        "arr = np.random.randint(0,100,size =(5,4)) \n",
        "print(\"Array: \\n\",arr)\n",
        "print(\"\\nMy function: \",func(arr))\n",
        "print(\"\\nNumpy.argmin(): \",np.argmin(arr))\n",
        "\n",
        "    \n"
      ]
    }
  ],
  "metadata": {
    "kernelspec": {
      "display_name": "Python 3 (ipykernel)",
      "language": "python",
      "name": "python3"
    },
    "language_info": {
      "codemirror_mode": {
        "name": "ipython",
        "version": 3
      },
      "file_extension": ".py",
      "mimetype": "text/x-python",
      "name": "python",
      "nbconvert_exporter": "python",
      "pygments_lexer": "ipython3",
      "version": "3.7.5"
    },
    "colab": {
      "provenance": [],
      "include_colab_link": true
    }
  },
  "nbformat": 4,
  "nbformat_minor": 5
}